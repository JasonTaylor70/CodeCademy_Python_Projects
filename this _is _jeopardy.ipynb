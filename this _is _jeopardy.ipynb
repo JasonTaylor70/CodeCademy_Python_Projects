{
 "cells": [
  {
   "attachments": {},
   "cell_type": "markdown",
   "metadata": {},
   "source": [
    "# This is Jeopardy!"
   ]
  },
  {
   "attachments": {},
   "cell_type": "markdown",
   "metadata": {},
   "source": [
    "#### Overview"
   ]
  },
  {
   "attachments": {},
   "cell_type": "markdown",
   "metadata": {},
   "source": [
    "This project is slightly different than others you have encountered thus far. Instead of a step-by-step tutorial, this project contains a series of open-ended requirements which describe the project you'll be building. There are many possible ways to correctly fulfill all of these requirements, and you should expect to use the internet, Codecademy, and/or other resources when you encounter a problem that you cannot easily solve."
   ]
  },
  {
   "attachments": {},
   "cell_type": "markdown",
   "metadata": {},
   "source": [
    "#### Project Goals"
   ]
  },
  {
   "attachments": {},
   "cell_type": "markdown",
   "metadata": {},
   "source": [
    "You will work to write several functions that investigate a dataset of _Jeopardy!_ questions and answers. Filter the dataset for topics that you're interested in, compute the average difficulty of those questions, and train to become the next Jeopardy champion!"
   ]
  },
  {
   "attachments": {},
   "cell_type": "markdown",
   "metadata": {},
   "source": [
    "## Prerequisites"
   ]
  },
  {
   "attachments": {},
   "cell_type": "markdown",
   "metadata": {},
   "source": [
    "In order to complete this project, you should have completed the Pandas lessons in the <a href=\"https://www.codecademy.com/learn/paths/analyze-data-with-python\">Analyze Data with Python Skill Path</a>. You can also find those lessons in the <a href=\"https://www.codecademy.com/learn/data-processing-pandas\">Data Analysis with Pandas course</a> or the <a href=\"https://www.codecademy.com/learn/paths/data-science/\">Data Scientist Career Path</a>.\n",
    "\n",
    "Finally, the <a href=\"https://www.codecademy.com/learn/practical-data-cleaning\">Practical Data Cleaning</a> course may also be helpful."
   ]
  },
  {
   "attachments": {},
   "cell_type": "markdown",
   "metadata": {},
   "source": [
    "## Project Requirements"
   ]
  },
  {
   "attachments": {},
   "cell_type": "markdown",
   "metadata": {},
   "source": [
    "1. We've provided a csv file containing data about the game show _Jeopardy!_ in a file named `jeopardy.csv`. Load the data into a DataFrame and investigate its contents. Try to print out specific columns.\n",
    "\n",
    "   Note that in order to make this project as \"real-world\" as possible, we haven't modified the data at all - we're giving it to you exactly how we found it. As a result, this data isn't as \"clean\" as the datasets you normally find on Codecademy. More specifically, there's something odd about the column names. After you figure out the problem with the column names, you may want to rename them to make your life easier for the rest of the project.\n",
    "   \n",
    "   In order to display the full contents of a column, we've added this line of code for you:\n",
    "   \n",
    "   ```py\n",
    "   pd.set_option('display.max_colwidth', None)\n",
    "   ```"
   ]
  },
  {
   "cell_type": "code",
   "execution_count": 13,
   "metadata": {},
   "outputs": [],
   "source": [
    "import pandas as pd\n",
    "pd.set_option('display.max_colwidth', None)\n",
    "jeopardy = pd.read_csv('jeopardy.csv')\n",
    "\n",
    "#RENAMING COLUMNS AFTER STRIPING UNNECESSARY WHITE SPACE \n",
    "jeopardy.rename(columns={' Air Date': 'Air Date', ' Round': 'Round', ' Category': 'Category', ' Value': 'Value', ' Question': 'Question', ' Answer': 'Answer'}, inplace= True)"
   ]
  },
  {
   "attachments": {},
   "cell_type": "markdown",
   "metadata": {},
   "source": [
    "2. Write a function that filters the dataset for questions that contains all of the words in a list of words. For example, when the list `[\"King\", \"England\"]` was passed to our function, the function returned a DataFrame of 49 rows. Every row had the strings `\"King\"` and `\"England\"` somewhere in its `\" Question\"`.\n",
    "d\n",
    "   Test your function by printing out the column containing the question of each row of the dataset."
   ]
  },
  {
   "cell_type": "code",
   "execution_count": 14,
   "metadata": {},
   "outputs": [],
   "source": [
    "# HELPER FUNCTION TO COMPARE THE ELEMENTS OF ONE LIST TO ANOTHER\n",
    "def check_a_in_b(list_A, list_B):\n",
    "    for word_a in list_A:\n",
    "        result = False\n",
    "        for word_b in list_B:\n",
    "            if word_a.lower() == word_b.lower():\n",
    "                result = True\n",
    "        if result == False:\n",
    "            return result\n",
    "    return result\n",
    "\n",
    "# USING THE HELPER FUNCTION check_a_in_b TO FILTER SPECIFIC QUESTIONS\n",
    "def find_question(df, lst):\n",
    "    new = []\n",
    "    count = 0\n",
    "\n",
    "    for question in df:\n",
    "        lower_question = [word for word in question.split()]\n",
    "        target = check_a_in_b(lst, lower_question)\n",
    "        if target:\n",
    "          new.append(jeopardy.iloc[count])\n",
    "          count += 1\n",
    "        else:\n",
    "          count += 1\n",
    "          continue\n",
    "\n",
    "    result = pd.DataFrame(new)\n",
    "    return result\n",
    "\n",
    "# LOWERING ALL STRING DATA TO THE SAME PLAYING FELID WITH LIST COMPREHENSION\n",
    "# THEN USING ALL() FUNCTION TO FILTER SPECIFIC QUESTIONS\n",
    "def find_question2(df, lst):\n",
    "    new = []\n",
    "    count = 0\n",
    "\n",
    "    for question in df:\n",
    "        lower_question = [word.lower() for word in question.split()]\n",
    "        lower_lst = [word.lower() for word in lst]\n",
    "        target = all(item in lower_question for item in lower_lst)\n",
    "        if target:\n",
    "          new.append(jeopardy.iloc[count])\n",
    "          count += 1\n",
    "        else:\n",
    "          count += 1\n",
    "          continue\n",
    "\n",
    "    result = pd.DataFrame(new)\n",
    "    return result     \n",
    "\n",
    "# LOWERING ALL STRING DATA TO THE SAME PLAYING FELID THEN USING LIST COMPREHENSION\n",
    "# THEN USING ISSUBSET() FUNCTION TO FILTER SPECIFIC QUESTIONS\n",
    "def find_question3(df, lst):\n",
    "    new = []\n",
    "    count = 0\n",
    "    for question in df:\n",
    "        lower_question = [word.lower() for word in question.split()]\n",
    "        lower_lst = [word.lower() for word in lst]\n",
    "        target = set(lower_lst).issubset(lower_question)\n",
    "        if target:\n",
    "          new.append(jeopardy.iloc[count])\n",
    "          count += 1\n",
    "        else:\n",
    "          count += 1\n",
    "          continue\n",
    "    result = pd.DataFrame(new)\n",
    "    return result    "
   ]
  },
  {
   "attachments": {},
   "cell_type": "markdown",
   "metadata": {},
   "source": [
    "3. Test your original function with a few different sets of words to try to find some ways your function breaks. Edit your function so it is more robust.\n",
    "\n",
    "   For example, think about capitalization. We probably want to find questions that contain the word `\"King\"` or `\"king\"`.\n",
    "   \n",
    "   You may also want to check to make sure you don't find rows that contain substrings of your given words. For example, our function found a question that didn't contain the word `\"king\"`, however it did contain the word `\"viking\"` &mdash; it found the `\"king\"` inside `\"viking\"`. Note that this also comes with some drawbacks &mdash; you would no longer find questions that contained words like `\"England's\"`."
   ]
  },
  {
   "cell_type": "code",
   "execution_count": 15,
   "metadata": {},
   "outputs": [
    {
     "name": "stdout",
     "output_type": "stream",
     "text": [
      "6337     In retaliation for Viking raids, this \"Unready\" king of England attacks Norse areas of the Isle of Man\n",
      "9191                   This king of England beat the odds to trounce the French in the 1415 Battle of Agincourt\n",
      "13454                                      It's the number that followed the last king of England named William\n",
      "14912         This country's King Louis IV was nicknamed \"Louis From Overseas\" because he was raised in England\n",
      "18076           In 1199 this crusader king of England was mortally wounded while besieging the castle of Chalus\n",
      "Name: Question, dtype: object\n",
      "6337     In retaliation for Viking raids, this \"Unready\" king of England attacks Norse areas of the Isle of Man\n",
      "9191                   This king of England beat the odds to trounce the French in the 1415 Battle of Agincourt\n",
      "13454                                      It's the number that followed the last king of England named William\n",
      "14912         This country's King Louis IV was nicknamed \"Louis From Overseas\" because he was raised in England\n",
      "18076           In 1199 this crusader king of England was mortally wounded while besieging the castle of Chalus\n",
      "Name: Question, dtype: object\n",
      "4953                     Both England's King George V & FDR put their stamp of approval on this \"King of Hobbies\"\n",
      "27555                          This member of the Medici family was the mother-in-law of England's King Charles I\n",
      "28570      The IV king of this name (following the Norman Conquest) brought the House of York to England's throne\n",
      "41357    England's King Henry VIII had 3 wives named Catherine:  Catherine Howard, Catherine of Aragon & this one\n",
      "43122                                                                      The father of England's King Edward VI\n",
      "Name: Question, dtype: object\n"
     ]
    }
   ],
   "source": [
    "#TESTING OUT FUNCTION\n",
    "king_england = find_question(jeopardy['Question'], [\"King\", \"England\"])\n",
    "king_england2 = find_question2(jeopardy['Question'], [\"King\", \"England\"])\n",
    "king_england3 = find_question3(jeopardy['Question'], [\"King\", \"England's\"])\n",
    "print(king_england.Question.head(5)) # HELPER FUNCTION\n",
    "print(king_england2.Question.head(5)) # ALL() FUNCTION\n",
    "print(king_england3.Question.head(5)) # ISSUBSET() FUNCTION"
   ]
  },
  {
   "attachments": {},
   "cell_type": "markdown",
   "metadata": {},
   "source": [
    "4. We may want to eventually compute aggregate statistics, like `.mean()` on the `\" Value\"` column. But right now, the values in that column are strings. Convert the`\" Value\"` column to floats. If you'd like to, you can create a new column with float values.\n",
    "\n",
    "   Now that you can filter the dataset of question, use your new column that contains the float values of each question to find the \"difficulty\" of certain topics. For example, what is the average value of questions that contain the word `\"King\"`?\n",
    "   \n",
    "   Make sure to use the dataset that contains the float values as the dataset you use in your filtering function."
   ]
  },
  {
   "cell_type": "code",
   "execution_count": 30,
   "metadata": {},
   "outputs": [
    {
     "name": "stdout",
     "output_type": "stream",
     "text": [
      "818.89\n",
      "0          200.0\n",
      "1          200.0\n",
      "2          200.0\n",
      "3          200.0\n",
      "4          200.0\n",
      "           ...  \n",
      "216925    2000.0\n",
      "216926    2000.0\n",
      "216927    2000.0\n",
      "216928    2000.0\n",
      "216929       NaN\n",
      "Name: Value, Length: 216930, dtype: float64\n"
     ]
    }
   ],
   "source": [
    "#CONVERTING ROWS IN VALUE COLUMN TO TYPE FLOAT\n",
    "jeopardy.Value = jeopardy.Value.apply(lambda row: float(str(row).replace('$', '').replace(',', '')))\n",
    "# print(jeopardy.Value)\n",
    "\n",
    "#CREATING A NEW COLUMN WITH THE ELEMENTS OF VALUE COLUMN CONVERTED TO FLOATS\n",
    "jeopardy['Float Value'] = jeopardy.Value.apply(lambda row: float(str(row).replace('$', '').replace(',', '')))\n",
    "# print(jeopardy['Float Value'])\n",
    "\n",
    "#CREATING DATASET WITH ROWS THAT CONTAIN THE WORD KING IN THE QUESTION AND FINDING THE AVERAGE VALUE\n",
    "just_king_mean = round(find_question(jeopardy.Question, ['king']).Value.mean(), 2)\n",
    "print(just_king_mean)\n",
    "\n",
    "for row in jeopardy.Value:\n",
    "    if row == None:\n",
    "        row.replace('NaN', 0)\n",
    "\n",
    "print(jeopardy.Value)\n"
   ]
  },
  {
   "attachments": {},
   "cell_type": "markdown",
   "metadata": {},
   "source": [
    "5. Write a function that returns the count of unique answers to all of the questions in a dataset. For example, after filtering the entire dataset to only questions containing the word `\"King\"`, we could then find all of the unique answers to those questions. The answer \"Henry VIII\" appeared 55 times and was the most common answer."
   ]
  },
  {
   "cell_type": "code",
   "execution_count": 17,
   "metadata": {},
   "outputs": [
    {
     "name": "stdout",
     "output_type": "stream",
     "text": [
      "Answer\n",
      "William the Conqueror                        4\n",
      "Richard the Lionhearted                      3\n",
      "Henry VIII                                   2\n",
      "Nassau                                       2\n",
      "George I                                     2\n",
      "Henry VII                                    2\n",
      "Alfred                                       2\n",
      "Richard the Lionheart                        2\n",
      "King Edward VIII                             2\n",
      "Harold II                                    2\n",
      "Charles I                                    2\n",
      "George III                                   2\n",
      "James (I)                                    1\n",
      "Ethelred                                     1\n",
      "William III                                  1\n",
      "Old King Cole                                1\n",
      "Battle of Hastings (which Harold II lost)    1\n",
      "Alfred the Great                             1\n",
      "James II                                     1\n",
      "Richard I                                    1\n",
      "Richard Branson                              1\n",
      "William                                      1\n",
      "William of Orange                            1\n",
      "Georgia                                      1\n",
      "Westminster Abbey                            1\n",
      "Anne Boleyn                                  1\n",
      "William II                                   1\n",
      "Harold                                       1\n",
      "Graham Chapman                               1\n",
      "James I                                      1\n",
      "Wales                                        1\n",
      "The Little Prince of Wales                   1\n",
      "William of Orange roughy                     1\n",
      "IV                                           1\n",
      "George IV                                    1\n",
      "Denmark                                      1\n",
      "1509                                         1\n",
      "4                                            1\n",
      "France                                       1\n",
      "Oliver Cromwell                              1\n",
      "1066                                         1\n",
      "Aethelred the Unready                        1\n",
      "Richard I (Richard the Lionhearted)          1\n",
      "Duke of Windsor                              1\n",
      "A1                                           1\n",
      "Edward VI                                    1\n",
      "Henry IV                                     1\n",
      "William the Orange                           1\n",
      "King Hussein                                 1\n",
      "Richard III                                  1\n",
      "Plantagenet                                  1\n",
      "11th century                                 1\n",
      "Norway                                       1\n",
      "Canute                                       1\n",
      "Edward                                       1\n",
      "George                                       1\n",
      "Henry V                                      1\n",
      "The Prince and the Pauper                    1\n",
      "Edward VII                                   1\n",
      "Name: count, dtype: int64\n"
     ]
    }
   ],
   "source": [
    "#CREATING FUNCTION THAT TAKES IN DATASET AND RETURNS UNIQUE VALUES IN SPECIFIC COLUMN\n",
    "def unique_answer(data):\n",
    "    return data.value_counts()\n",
    "\n",
    "king_england_unique = unique_answer(king_england.Answer)\n",
    "print(king_england_unique)"
   ]
  },
  {
   "attachments": {},
   "cell_type": "markdown",
   "metadata": {},
   "source": [
    "6. Explore from here! This is an incredibly rich dataset, and there are so many interesting things to discover. There are a few columns that we haven't even started looking at yet. Here are some ideas on ways to continue working with this data:\n",
    "\n",
    " * Investigate the ways in which questions change over time by filtering by the date. How many questions from the 90s use the word `\"Computer\"` compared to questions from the 2000s?\n",
    " * Is there a connection between the round and the category? Are you more likely to find certain categories, like `\"Literature\"` in Single Jeopardy or Double Jeopardy?\n",
    " * Build a system to quiz yourself. Grab random questions, and use the <a href=\"https://docs.python.org/3/library/functions.html#input\">input</a> function to get a response from the user. Check to see if that response was right or wrong."
   ]
  },
  {
   "cell_type": "code",
   "execution_count": 18,
   "metadata": {},
   "outputs": [
    {
     "name": "stdout",
     "output_type": "stream",
     "text": [
      "0.16% of the questions from the 2000s contain the word Computer.\n",
      "0.11% of the questions from the 2000s contain the word Computer.\n",
      "OR\n",
      "244 questions from the 2000s contain the word Computer.\n",
      "71 questions from the 2000s contain the word Computer.\n"
     ]
    }
   ],
   "source": [
    "def compare_data_by_date(data, year, lst):\n",
    "\n",
    "    two_thousands = data[data['Air Date'] >= str(year) + '-00-00']\n",
    "    nineties = data[data['Air Date'] < str(year) + '-00-00']\n",
    "\n",
    "    two_thousands_count = find_question(two_thousands.Question, lst)\n",
    "    nineties_count = find_question(nineties.Question, lst)\n",
    "\n",
    "    two_percent = round(len(two_thousands_count) / len(two_thousands) * 100, 2)\n",
    "    nine_percent = round(len(nineties_count) / len(nineties) * 100, 2)\n",
    "\n",
    "    print(str(two_percent) + '% of the questions from the ' + str(year) + 's contain the word ' + lst[0] + '.')\n",
    "    print(str(nine_percent) + '% of the questions from the ' + str(year) + 's contain the word ' + lst[0] + '.')\n",
    "\n",
    "    print('OR')\n",
    "\n",
    "    print(str(len(two_thousands_count)) + ' questions from the ' + str(year) + 's contain the word ' + lst[0] + '.')\n",
    "    print(str(len(nineties_count)) + ' questions from the ' + str(year) + 's contain the word ' + lst[0] + '.')\n",
    "\n",
    "compare_data_by_date(jeopardy, 2000, ['Computer'])"
   ]
  },
  {
   "attachments": {},
   "cell_type": "markdown",
   "metadata": {},
   "source": [
    "## Solution"
   ]
  },
  {
   "cell_type": "code",
   "execution_count": null,
   "metadata": {},
   "outputs": [],
   "source": []
  },
  {
   "attachments": {},
   "cell_type": "markdown",
   "metadata": {},
   "source": [
    "7. Compare your program to our <a href=\"https://content.codecademy.com/PRO/independent-practice-projects/jeopardy/jeopardy_solution.zip\">sample solution code</a> - remember, that your program might look different from ours (and probably will) and that's okay!"
   ]
  },
  {
   "attachments": {},
   "cell_type": "markdown",
   "metadata": {},
   "source": [
    "8. Great work! Visit <a href=\"https://discuss.codecademy.com/t/this-is-jeopardy-challenge-project-python-pandas/462365\">our forums</a> to compare your project to our sample solution code. You can also learn how to host your own solution on GitHub so you can share it with other learners! Your solution might look different from ours, and that's okay! There are multiple ways to solve these projects, and you'll learn more by seeing others' code."
   ]
  }
 ],
 "metadata": {
  "kernelspec": {
   "display_name": "Python 3 (ipykernel)",
   "language": "python",
   "name": "python3"
  },
  "language_info": {
   "codemirror_mode": {
    "name": "ipython",
    "version": 3
   },
   "file_extension": ".py",
   "mimetype": "text/x-python",
   "name": "python",
   "nbconvert_exporter": "python",
   "pygments_lexer": "ipython3",
   "version": "3.11.1"
  }
 },
 "nbformat": 4,
 "nbformat_minor": 2
}
